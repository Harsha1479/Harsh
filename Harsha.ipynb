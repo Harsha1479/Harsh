{
  "cells": [
    {
      "cell_type": "markdown",
      "metadata": {
        "id": "view-in-github",
        "colab_type": "text"
      },
      "source": [
        "<a href=\"https://colab.research.google.com/github/Harsha1479/Harsh/blob/main/Harsha.ipynb\" target=\"_parent\"><img src=\"https://colab.research.google.com/assets/colab-badge.svg\" alt=\"Open In Colab\"/></a>"
      ]
    },
    {
      "cell_type": "code",
      "execution_count": null,
      "metadata": {
        "colab": {
          "base_uri": "https://localhost:8080/"
        },
        "id": "IFGnFTEi-Vcf",
        "outputId": "870b6589-1a4b-4298-9071-fd2e7627485c"
      },
      "outputs": [
        {
          "output_type": "stream",
          "name": "stdout",
          "text": [
            "Enter your age.10\n",
            "Select any one time unit:Months,Weeks,Days,Hours,Minutes,Seconds.\n",
            "Note: : You can write the first letter or the full name of the time unit.m\n",
            "You lived for 120.0 Months.\n"
          ]
        }
      ],
      "source": [
        "class duration:\n",
        "  def __init__(self,age):\n",
        "    self.age=age\n",
        "  def months(self):\n",
        "    return self.age*12\n",
        "  def weeks(self):\n",
        "    return self.age*52.179\n",
        "  def days(self):\n",
        "    return self.age*365.3\n",
        "  def hours(self):\n",
        "    return self.days()*24\n",
        "  def minutes(self):\n",
        "    return self.hours()*60\n",
        "  def seconds(self):\n",
        "    return self.minutes()*60\n",
        "  def calculate_duration(self,unit):\n",
        "    unit=unit.lower()\n",
        "    if unit=='m' or unit=='months':\n",
        "      return self.months()\n",
        "    elif unit=='w' or unit=='days':\n",
        "      return self.days()\n",
        "    elif unit=='h' or unit=='hours':\n",
        "      return self.hours()\n",
        "    elif unit=='min' or unit=='minutes':\n",
        "      return self.minutes()\n",
        "    elif unit=='s' or unit=='seconds':\n",
        "      return self.seconds()\n",
        "    else:\n",
        "      raise ValueError(\"Incalid time unit selected.\")\n",
        "  def final_unit(self,unit):\n",
        "   unit = unit.lower()\n",
        "   if unit == 'm' or unit == 'months':\n",
        "      return 'Months'\n",
        "   elif unit == 'w' or unit == 'weeks':\n",
        "      return 'Weeks'\n",
        "   elif unit == 'd' or unit == 'days':\n",
        "      return 'Days'\n",
        "   elif unit == 'h' or unit == 'hours':\n",
        "      return 'Hours'\n",
        "   elif unit == 'min' or unit == 'minutes':\n",
        "      return 'Minutes'\n",
        "   elif unit == 's' or unit == 'seconds':\n",
        "      return 'Seconds'\n",
        "   else:\n",
        "      raise ValueError(\"Invalid time unit selected.\")\n",
        "age=float(input(\"Enter your age.\"))\n",
        "if age<0:\n",
        "  print(\"Age cannot be nagetive.\")\n",
        "else:\n",
        "    unit=input(\"Select any one time unit:Months,Weeks,Days,Hours,Minutes,Seconds.\\nNote: : You can write the first letter or the full name of the time unit.\")\n",
        "    age1=duration(age)\n",
        "    result=age1.calculate_duration(unit)\n",
        "    final_unit=age1.final_unit(unit)\n",
        "    print(f\"You lived for {result} {final_unit}.\")"
      ]
    },
    {
      "cell_type": "code",
      "source": [
        "from google.colab import drive\n",
        "drive.mount('/content/drive')"
      ],
      "metadata": {
        "id": "ffdV-QUB1Yr7"
      },
      "execution_count": null,
      "outputs": []
    }
  ],
  "metadata": {
    "colab": {
      "provenance": [],
      "include_colab_link": true
    },
    "kernelspec": {
      "display_name": "Python 3",
      "name": "python3"
    },
    "language_info": {
      "name": "python"
    }
  },
  "nbformat": 4,
  "nbformat_minor": 0
}